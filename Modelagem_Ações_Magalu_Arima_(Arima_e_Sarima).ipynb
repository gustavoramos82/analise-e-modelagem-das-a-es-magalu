{
  "cells": [
    {
      "cell_type": "markdown",
      "metadata": {
        "id": "view-in-github",
        "colab_type": "text"
      },
      "source": [
        "<a href=\"https://colab.research.google.com/github/gustavoramos82/analise-e-modelagem-das-a-es-magalu/blob/main/Modelagem_A%C3%A7%C3%B5es_Magalu_Arima_(Arima_e_Sarima).ipynb\" target=\"_parent\"><img src=\"https://colab.research.google.com/assets/colab-badge.svg\" alt=\"Open In Colab\"/></a>"
      ]
    },
    {
      "cell_type": "code",
      "execution_count": 1,
      "metadata": {
        "colab": {
          "base_uri": "https://localhost:8080/"
        },
        "id": "LjTOJwAIGRU0",
        "outputId": "119c46ac-57c5-49e9-db1c-a56fd713d25b"
      },
      "outputs": [
        {
          "output_type": "stream",
          "name": "stdout",
          "text": [
            "Looking in indexes: https://pypi.org/simple, https://us-python.pkg.dev/colab-wheels/public/simple/\n",
            "Requirement already satisfied: pmdarima in /usr/local/lib/python3.8/dist-packages (2.0.2)\n",
            "Requirement already satisfied: pandas>=0.19 in /usr/local/lib/python3.8/dist-packages (from pmdarima) (1.5.3)\n",
            "Requirement already satisfied: Cython!=0.29.18,!=0.29.31,>=0.29 in /usr/local/lib/python3.8/dist-packages (from pmdarima) (0.29.33)\n",
            "Requirement already satisfied: scikit-learn>=0.22 in /usr/local/lib/python3.8/dist-packages (from pmdarima) (1.0.2)\n",
            "Requirement already satisfied: numpy>=1.21.2 in /usr/local/lib/python3.8/dist-packages (from pmdarima) (1.21.6)\n",
            "Requirement already satisfied: setuptools!=50.0.0,>=38.6.0 in /usr/local/lib/python3.8/dist-packages (from pmdarima) (57.4.0)\n",
            "Requirement already satisfied: statsmodels>=0.13.2 in /usr/local/lib/python3.8/dist-packages (from pmdarima) (0.13.5)\n",
            "Requirement already satisfied: joblib>=0.11 in /usr/local/lib/python3.8/dist-packages (from pmdarima) (1.2.0)\n",
            "Requirement already satisfied: scipy>=1.3.2 in /usr/local/lib/python3.8/dist-packages (from pmdarima) (1.7.3)\n",
            "Requirement already satisfied: urllib3 in /usr/local/lib/python3.8/dist-packages (from pmdarima) (1.24.3)\n",
            "Requirement already satisfied: pytz>=2020.1 in /usr/local/lib/python3.8/dist-packages (from pandas>=0.19->pmdarima) (2022.7.1)\n",
            "Requirement already satisfied: python-dateutil>=2.8.1 in /usr/local/lib/python3.8/dist-packages (from pandas>=0.19->pmdarima) (2.8.2)\n",
            "Requirement already satisfied: threadpoolctl>=2.0.0 in /usr/local/lib/python3.8/dist-packages (from scikit-learn>=0.22->pmdarima) (3.1.0)\n",
            "Requirement already satisfied: packaging>=21.3 in /usr/local/lib/python3.8/dist-packages (from statsmodels>=0.13.2->pmdarima) (23.0)\n",
            "Requirement already satisfied: patsy>=0.5.2 in /usr/local/lib/python3.8/dist-packages (from statsmodels>=0.13.2->pmdarima) (0.5.3)\n",
            "Requirement already satisfied: six in /usr/local/lib/python3.8/dist-packages (from patsy>=0.5.2->statsmodels>=0.13.2->pmdarima) (1.15.0)\n"
          ]
        }
      ],
      "source": [
        "!pip install pmdarima"
      ]
    },
    {
      "cell_type": "code",
      "execution_count": 2,
      "metadata": {
        "colab": {
          "base_uri": "https://localhost:8080/"
        },
        "id": "hJODL_kvK_-s",
        "outputId": "c12b384f-7420-4e32-b6dc-e7a4c1250179"
      },
      "outputs": [
        {
          "output_type": "stream",
          "name": "stdout",
          "text": [
            "Looking in indexes: https://pypi.org/simple, https://us-python.pkg.dev/colab-wheels/public/simple/\n",
            "Requirement already satisfied: pandas in /usr/local/lib/python3.8/dist-packages (1.5.3)\n",
            "Requirement already satisfied: numpy>=1.20.3 in /usr/local/lib/python3.8/dist-packages (from pandas) (1.21.6)\n",
            "Requirement already satisfied: pytz>=2020.1 in /usr/local/lib/python3.8/dist-packages (from pandas) (2022.7.1)\n",
            "Requirement already satisfied: python-dateutil>=2.8.1 in /usr/local/lib/python3.8/dist-packages (from pandas) (2.8.2)\n",
            "Requirement already satisfied: six>=1.5 in /usr/local/lib/python3.8/dist-packages (from python-dateutil>=2.8.1->pandas) (1.15.0)\n",
            "Looking in indexes: https://pypi.org/simple, https://us-python.pkg.dev/colab-wheels/public/simple/\n",
            "Requirement already satisfied: pandas-datareader in /usr/local/lib/python3.8/dist-packages (0.10.0)\n",
            "Requirement already satisfied: requests>=2.19.0 in /usr/local/lib/python3.8/dist-packages (from pandas-datareader) (2.28.2)\n",
            "Requirement already satisfied: pandas>=0.23 in /usr/local/lib/python3.8/dist-packages (from pandas-datareader) (1.5.3)\n",
            "Requirement already satisfied: lxml in /usr/local/lib/python3.8/dist-packages (from pandas-datareader) (4.9.2)\n",
            "Requirement already satisfied: pytz>=2020.1 in /usr/local/lib/python3.8/dist-packages (from pandas>=0.23->pandas-datareader) (2022.7.1)\n",
            "Requirement already satisfied: numpy>=1.20.3 in /usr/local/lib/python3.8/dist-packages (from pandas>=0.23->pandas-datareader) (1.21.6)\n",
            "Requirement already satisfied: python-dateutil>=2.8.1 in /usr/local/lib/python3.8/dist-packages (from pandas>=0.23->pandas-datareader) (2.8.2)\n",
            "Requirement already satisfied: certifi>=2017.4.17 in /usr/local/lib/python3.8/dist-packages (from requests>=2.19.0->pandas-datareader) (2022.12.7)\n",
            "Requirement already satisfied: idna<4,>=2.5 in /usr/local/lib/python3.8/dist-packages (from requests>=2.19.0->pandas-datareader) (2.10)\n",
            "Requirement already satisfied: charset-normalizer<4,>=2 in /usr/local/lib/python3.8/dist-packages (from requests>=2.19.0->pandas-datareader) (2.1.1)\n",
            "Requirement already satisfied: urllib3<1.27,>=1.21.1 in /usr/local/lib/python3.8/dist-packages (from requests>=2.19.0->pandas-datareader) (1.24.3)\n",
            "Requirement already satisfied: six>=1.5 in /usr/local/lib/python3.8/dist-packages (from python-dateutil>=2.8.1->pandas>=0.23->pandas-datareader) (1.15.0)\n"
          ]
        }
      ],
      "source": [
        "!pip install --upgrade pandas\n",
        "!pip install --upgrade pandas-datareader"
      ]
    },
    {
      "cell_type": "code",
      "source": [
        "!pip install yfinance"
      ],
      "metadata": {
        "colab": {
          "base_uri": "https://localhost:8080/"
        },
        "id": "n2mpHMAo3PPu",
        "outputId": "e1c8ef3e-9d8d-4ae5-b5c0-817521630d20"
      },
      "execution_count": 3,
      "outputs": [
        {
          "output_type": "stream",
          "name": "stdout",
          "text": [
            "Looking in indexes: https://pypi.org/simple, https://us-python.pkg.dev/colab-wheels/public/simple/\n",
            "Requirement already satisfied: yfinance in /usr/local/lib/python3.8/dist-packages (0.2.9)\n",
            "Requirement already satisfied: numpy>=1.16.5 in /usr/local/lib/python3.8/dist-packages (from yfinance) (1.21.6)\n",
            "Requirement already satisfied: lxml>=4.9.1 in /usr/local/lib/python3.8/dist-packages (from yfinance) (4.9.2)\n",
            "Requirement already satisfied: pytz>=2022.5 in /usr/local/lib/python3.8/dist-packages (from yfinance) (2022.7.1)\n",
            "Requirement already satisfied: html5lib>=1.1 in /usr/local/lib/python3.8/dist-packages (from yfinance) (1.1)\n",
            "Requirement already satisfied: pandas>=1.3.0 in /usr/local/lib/python3.8/dist-packages (from yfinance) (1.5.3)\n",
            "Requirement already satisfied: appdirs>=1.4.4 in /usr/local/lib/python3.8/dist-packages (from yfinance) (1.4.4)\n",
            "Requirement already satisfied: frozendict>=2.3.4 in /usr/local/lib/python3.8/dist-packages (from yfinance) (2.3.4)\n",
            "Requirement already satisfied: cryptography>=3.3.2 in /usr/local/lib/python3.8/dist-packages (from yfinance) (39.0.0)\n",
            "Requirement already satisfied: multitasking>=0.0.7 in /usr/local/lib/python3.8/dist-packages (from yfinance) (0.0.11)\n",
            "Requirement already satisfied: beautifulsoup4>=4.11.1 in /usr/local/lib/python3.8/dist-packages (from yfinance) (4.11.2)\n",
            "Requirement already satisfied: requests>=2.26 in /usr/local/lib/python3.8/dist-packages (from yfinance) (2.28.2)\n",
            "Requirement already satisfied: soupsieve>1.2 in /usr/local/lib/python3.8/dist-packages (from beautifulsoup4>=4.11.1->yfinance) (2.3.2.post1)\n",
            "Requirement already satisfied: cffi>=1.12 in /usr/local/lib/python3.8/dist-packages (from cryptography>=3.3.2->yfinance) (1.15.1)\n",
            "Requirement already satisfied: six>=1.9 in /usr/local/lib/python3.8/dist-packages (from html5lib>=1.1->yfinance) (1.15.0)\n",
            "Requirement already satisfied: webencodings in /usr/local/lib/python3.8/dist-packages (from html5lib>=1.1->yfinance) (0.5.1)\n",
            "Requirement already satisfied: python-dateutil>=2.8.1 in /usr/local/lib/python3.8/dist-packages (from pandas>=1.3.0->yfinance) (2.8.2)\n",
            "Requirement already satisfied: idna<4,>=2.5 in /usr/local/lib/python3.8/dist-packages (from requests>=2.26->yfinance) (2.10)\n",
            "Requirement already satisfied: charset-normalizer<4,>=2 in /usr/local/lib/python3.8/dist-packages (from requests>=2.26->yfinance) (2.1.1)\n",
            "Requirement already satisfied: certifi>=2017.4.17 in /usr/local/lib/python3.8/dist-packages (from requests>=2.26->yfinance) (2022.12.7)\n",
            "Requirement already satisfied: urllib3<1.27,>=1.21.1 in /usr/local/lib/python3.8/dist-packages (from requests>=2.26->yfinance) (1.24.3)\n",
            "Requirement already satisfied: pycparser in /usr/local/lib/python3.8/dist-packages (from cffi>=1.12->cryptography>=3.3.2->yfinance) (2.21)\n"
          ]
        }
      ]
    },
    {
      "cell_type": "code",
      "execution_count": 4,
      "metadata": {
        "id": "q-cbNKfYFVA5"
      },
      "outputs": [],
      "source": [
        "from pandas_datareader import data\n",
        "\n",
        "import numpy as np\n",
        "import pandas as pd\n",
        "import matplotlib.pyplot as plt\n",
        "\n",
        "from pmdarima.arima import auto_arima\n",
        "import yfinance as yfin\n",
        "\n",
        "yfin.pdr_override()\n",
        "from sklearn.metrics import mean_absolute_error, mean_squared_error, mean_absolute_percentage_error\n",
        "\n",
        "import warnings\n",
        "warnings.filterwarnings('ignore')\n",
        "\n",
        "from itertools import product\n",
        "from tqdm import tqdm_notebook\n",
        "from statsmodels.tsa.statespace.sarimax import SARIMAX"
      ]
    },
    {
      "cell_type": "code",
      "execution_count": 5,
      "metadata": {
        "colab": {
          "base_uri": "https://localhost:8080/",
          "height": 476
        },
        "id": "2pIWW_J5Fdi6",
        "outputId": "df28c52d-dc0e-4009-8e48-77c45036000a"
      },
      "outputs": [
        {
          "output_type": "stream",
          "name": "stdout",
          "text": [
            "\r[*********************100%***********************]  1 of 1 completed\n"
          ]
        },
        {
          "output_type": "execute_result",
          "data": {
            "text/plain": [
              "                               Open      High       Low     Close  Adj Close  \\\n",
              "Date                                                                           \n",
              "2018-01-02 00:00:00-02:00  2.528125  2.574375  2.450312  2.478125   2.390916   \n",
              "2018-01-03 00:00:00-02:00  2.468750  2.542500  2.422500  2.446875   2.360766   \n",
              "2018-01-04 00:00:00-02:00  2.500000  2.516250  2.478125  2.505625   2.417448   \n",
              "2018-01-05 00:00:00-02:00  2.514062  2.528437  2.448437  2.456250   2.369811   \n",
              "2018-01-08 00:00:00-02:00  2.453125  2.503437  2.448437  2.456562   2.370112   \n",
              "...                             ...       ...       ...       ...        ...   \n",
              "2023-01-16 00:00:00-03:00  3.380000  3.960000  3.370000  3.850000   3.850000   \n",
              "2023-01-17 00:00:00-03:00  3.900000  4.020000  3.660000  3.790000   3.790000   \n",
              "2023-01-18 00:00:00-03:00  3.840000  3.880000  3.520000  3.560000   3.560000   \n",
              "2023-01-19 00:00:00-03:00  3.470000  3.920000  3.460000  3.810000   3.810000   \n",
              "2023-01-20 00:00:00-03:00  3.850000  3.880000  3.730000  3.820000   3.820000   \n",
              "\n",
              "                              Volume  \n",
              "Date                                  \n",
              "2018-01-02 00:00:00-02:00   59427200  \n",
              "2018-01-03 00:00:00-02:00   41385600  \n",
              "2018-01-04 00:00:00-02:00   47936000  \n",
              "2018-01-05 00:00:00-02:00   30684800  \n",
              "2018-01-08 00:00:00-02:00   28796800  \n",
              "...                              ...  \n",
              "2023-01-16 00:00:00-03:00  223987500  \n",
              "2023-01-17 00:00:00-03:00  253024500  \n",
              "2023-01-18 00:00:00-03:00  227221500  \n",
              "2023-01-19 00:00:00-03:00  268759600  \n",
              "2023-01-20 00:00:00-03:00  158285100  \n",
              "\n",
              "[1254 rows x 6 columns]"
            ],
            "text/html": [
              "\n",
              "  <div id=\"df-bcc6441a-800e-4849-b1ab-abcaf67a2de9\">\n",
              "    <div class=\"colab-df-container\">\n",
              "      <div>\n",
              "<style scoped>\n",
              "    .dataframe tbody tr th:only-of-type {\n",
              "        vertical-align: middle;\n",
              "    }\n",
              "\n",
              "    .dataframe tbody tr th {\n",
              "        vertical-align: top;\n",
              "    }\n",
              "\n",
              "    .dataframe thead th {\n",
              "        text-align: right;\n",
              "    }\n",
              "</style>\n",
              "<table border=\"1\" class=\"dataframe\">\n",
              "  <thead>\n",
              "    <tr style=\"text-align: right;\">\n",
              "      <th></th>\n",
              "      <th>Open</th>\n",
              "      <th>High</th>\n",
              "      <th>Low</th>\n",
              "      <th>Close</th>\n",
              "      <th>Adj Close</th>\n",
              "      <th>Volume</th>\n",
              "    </tr>\n",
              "    <tr>\n",
              "      <th>Date</th>\n",
              "      <th></th>\n",
              "      <th></th>\n",
              "      <th></th>\n",
              "      <th></th>\n",
              "      <th></th>\n",
              "      <th></th>\n",
              "    </tr>\n",
              "  </thead>\n",
              "  <tbody>\n",
              "    <tr>\n",
              "      <th>2018-01-02 00:00:00-02:00</th>\n",
              "      <td>2.528125</td>\n",
              "      <td>2.574375</td>\n",
              "      <td>2.450312</td>\n",
              "      <td>2.478125</td>\n",
              "      <td>2.390916</td>\n",
              "      <td>59427200</td>\n",
              "    </tr>\n",
              "    <tr>\n",
              "      <th>2018-01-03 00:00:00-02:00</th>\n",
              "      <td>2.468750</td>\n",
              "      <td>2.542500</td>\n",
              "      <td>2.422500</td>\n",
              "      <td>2.446875</td>\n",
              "      <td>2.360766</td>\n",
              "      <td>41385600</td>\n",
              "    </tr>\n",
              "    <tr>\n",
              "      <th>2018-01-04 00:00:00-02:00</th>\n",
              "      <td>2.500000</td>\n",
              "      <td>2.516250</td>\n",
              "      <td>2.478125</td>\n",
              "      <td>2.505625</td>\n",
              "      <td>2.417448</td>\n",
              "      <td>47936000</td>\n",
              "    </tr>\n",
              "    <tr>\n",
              "      <th>2018-01-05 00:00:00-02:00</th>\n",
              "      <td>2.514062</td>\n",
              "      <td>2.528437</td>\n",
              "      <td>2.448437</td>\n",
              "      <td>2.456250</td>\n",
              "      <td>2.369811</td>\n",
              "      <td>30684800</td>\n",
              "    </tr>\n",
              "    <tr>\n",
              "      <th>2018-01-08 00:00:00-02:00</th>\n",
              "      <td>2.453125</td>\n",
              "      <td>2.503437</td>\n",
              "      <td>2.448437</td>\n",
              "      <td>2.456562</td>\n",
              "      <td>2.370112</td>\n",
              "      <td>28796800</td>\n",
              "    </tr>\n",
              "    <tr>\n",
              "      <th>...</th>\n",
              "      <td>...</td>\n",
              "      <td>...</td>\n",
              "      <td>...</td>\n",
              "      <td>...</td>\n",
              "      <td>...</td>\n",
              "      <td>...</td>\n",
              "    </tr>\n",
              "    <tr>\n",
              "      <th>2023-01-16 00:00:00-03:00</th>\n",
              "      <td>3.380000</td>\n",
              "      <td>3.960000</td>\n",
              "      <td>3.370000</td>\n",
              "      <td>3.850000</td>\n",
              "      <td>3.850000</td>\n",
              "      <td>223987500</td>\n",
              "    </tr>\n",
              "    <tr>\n",
              "      <th>2023-01-17 00:00:00-03:00</th>\n",
              "      <td>3.900000</td>\n",
              "      <td>4.020000</td>\n",
              "      <td>3.660000</td>\n",
              "      <td>3.790000</td>\n",
              "      <td>3.790000</td>\n",
              "      <td>253024500</td>\n",
              "    </tr>\n",
              "    <tr>\n",
              "      <th>2023-01-18 00:00:00-03:00</th>\n",
              "      <td>3.840000</td>\n",
              "      <td>3.880000</td>\n",
              "      <td>3.520000</td>\n",
              "      <td>3.560000</td>\n",
              "      <td>3.560000</td>\n",
              "      <td>227221500</td>\n",
              "    </tr>\n",
              "    <tr>\n",
              "      <th>2023-01-19 00:00:00-03:00</th>\n",
              "      <td>3.470000</td>\n",
              "      <td>3.920000</td>\n",
              "      <td>3.460000</td>\n",
              "      <td>3.810000</td>\n",
              "      <td>3.810000</td>\n",
              "      <td>268759600</td>\n",
              "    </tr>\n",
              "    <tr>\n",
              "      <th>2023-01-20 00:00:00-03:00</th>\n",
              "      <td>3.850000</td>\n",
              "      <td>3.880000</td>\n",
              "      <td>3.730000</td>\n",
              "      <td>3.820000</td>\n",
              "      <td>3.820000</td>\n",
              "      <td>158285100</td>\n",
              "    </tr>\n",
              "  </tbody>\n",
              "</table>\n",
              "<p>1254 rows × 6 columns</p>\n",
              "</div>\n",
              "      <button class=\"colab-df-convert\" onclick=\"convertToInteractive('df-bcc6441a-800e-4849-b1ab-abcaf67a2de9')\"\n",
              "              title=\"Convert this dataframe to an interactive table.\"\n",
              "              style=\"display:none;\">\n",
              "        \n",
              "  <svg xmlns=\"http://www.w3.org/2000/svg\" height=\"24px\"viewBox=\"0 0 24 24\"\n",
              "       width=\"24px\">\n",
              "    <path d=\"M0 0h24v24H0V0z\" fill=\"none\"/>\n",
              "    <path d=\"M18.56 5.44l.94 2.06.94-2.06 2.06-.94-2.06-.94-.94-2.06-.94 2.06-2.06.94zm-11 1L8.5 8.5l.94-2.06 2.06-.94-2.06-.94L8.5 2.5l-.94 2.06-2.06.94zm10 10l.94 2.06.94-2.06 2.06-.94-2.06-.94-.94-2.06-.94 2.06-2.06.94z\"/><path d=\"M17.41 7.96l-1.37-1.37c-.4-.4-.92-.59-1.43-.59-.52 0-1.04.2-1.43.59L10.3 9.45l-7.72 7.72c-.78.78-.78 2.05 0 2.83L4 21.41c.39.39.9.59 1.41.59.51 0 1.02-.2 1.41-.59l7.78-7.78 2.81-2.81c.8-.78.8-2.07 0-2.86zM5.41 20L4 18.59l7.72-7.72 1.47 1.35L5.41 20z\"/>\n",
              "  </svg>\n",
              "      </button>\n",
              "      \n",
              "  <style>\n",
              "    .colab-df-container {\n",
              "      display:flex;\n",
              "      flex-wrap:wrap;\n",
              "      gap: 12px;\n",
              "    }\n",
              "\n",
              "    .colab-df-convert {\n",
              "      background-color: #E8F0FE;\n",
              "      border: none;\n",
              "      border-radius: 50%;\n",
              "      cursor: pointer;\n",
              "      display: none;\n",
              "      fill: #1967D2;\n",
              "      height: 32px;\n",
              "      padding: 0 0 0 0;\n",
              "      width: 32px;\n",
              "    }\n",
              "\n",
              "    .colab-df-convert:hover {\n",
              "      background-color: #E2EBFA;\n",
              "      box-shadow: 0px 1px 2px rgba(60, 64, 67, 0.3), 0px 1px 3px 1px rgba(60, 64, 67, 0.15);\n",
              "      fill: #174EA6;\n",
              "    }\n",
              "\n",
              "    [theme=dark] .colab-df-convert {\n",
              "      background-color: #3B4455;\n",
              "      fill: #D2E3FC;\n",
              "    }\n",
              "\n",
              "    [theme=dark] .colab-df-convert:hover {\n",
              "      background-color: #434B5C;\n",
              "      box-shadow: 0px 1px 3px 1px rgba(0, 0, 0, 0.15);\n",
              "      filter: drop-shadow(0px 1px 2px rgba(0, 0, 0, 0.3));\n",
              "      fill: #FFFFFF;\n",
              "    }\n",
              "  </style>\n",
              "\n",
              "      <script>\n",
              "        const buttonEl =\n",
              "          document.querySelector('#df-bcc6441a-800e-4849-b1ab-abcaf67a2de9 button.colab-df-convert');\n",
              "        buttonEl.style.display =\n",
              "          google.colab.kernel.accessAllowed ? 'block' : 'none';\n",
              "\n",
              "        async function convertToInteractive(key) {\n",
              "          const element = document.querySelector('#df-bcc6441a-800e-4849-b1ab-abcaf67a2de9');\n",
              "          const dataTable =\n",
              "            await google.colab.kernel.invokeFunction('convertToInteractive',\n",
              "                                                     [key], {});\n",
              "          if (!dataTable) return;\n",
              "\n",
              "          const docLinkHtml = 'Like what you see? Visit the ' +\n",
              "            '<a target=\"_blank\" href=https://colab.research.google.com/notebooks/data_table.ipynb>data table notebook</a>'\n",
              "            + ' to learn more about interactive tables.';\n",
              "          element.innerHTML = '';\n",
              "          dataTable['output_type'] = 'display_data';\n",
              "          await google.colab.output.renderOutput(dataTable, element);\n",
              "          const docLink = document.createElement('div');\n",
              "          docLink.innerHTML = docLinkHtml;\n",
              "          element.appendChild(docLink);\n",
              "        }\n",
              "      </script>\n",
              "    </div>\n",
              "  </div>\n",
              "  "
            ]
          },
          "metadata": {},
          "execution_count": 5
        }
      ],
      "source": [
        "magalu = data.DataReader(\"MGLU3.SA\",start='2018-01-2', end='2023-01-23')\n",
        "magalu"
      ]
    },
    {
      "cell_type": "code",
      "execution_count": 6,
      "metadata": {
        "colab": {
          "base_uri": "https://localhost:8080/"
        },
        "id": "sFjyrCFYF5vG",
        "outputId": "0e9014be-ab59-4bc4-93d7-4c6a2af93c73"
      },
      "outputs": [
        {
          "output_type": "execute_result",
          "data": {
            "text/plain": [
              "Date\n",
              "2018-01-02 00:00:00-02:00    2.478125\n",
              "2018-01-03 00:00:00-02:00    2.446875\n",
              "2018-01-04 00:00:00-02:00    2.505625\n",
              "2018-01-05 00:00:00-02:00    2.456250\n",
              "2018-01-08 00:00:00-02:00    2.456562\n",
              "                               ...   \n",
              "2023-01-16 00:00:00-03:00    3.850000\n",
              "2023-01-17 00:00:00-03:00    3.790000\n",
              "2023-01-18 00:00:00-03:00    3.560000\n",
              "2023-01-19 00:00:00-03:00    3.810000\n",
              "2023-01-20 00:00:00-03:00    3.820000\n",
              "Name: Close, Length: 1254, dtype: float64"
            ]
          },
          "metadata": {},
          "execution_count": 6
        }
      ],
      "source": [
        "magalu = magalu['Close']\n",
        "magalu"
      ]
    },
    {
      "cell_type": "code",
      "execution_count": 7,
      "metadata": {
        "id": "Nw4DnCwoGCtx"
      },
      "outputs": [],
      "source": [
        "treino = magalu[0:1239]\n",
        "teste = magalu[1239:1254]"
      ]
    },
    {
      "cell_type": "code",
      "execution_count": 8,
      "metadata": {
        "colab": {
          "base_uri": "https://localhost:8080/"
        },
        "id": "DbrKh57pHh2B",
        "outputId": "aa451879-7a1a-4dbd-93bc-728df510d74a"
      },
      "outputs": [
        {
          "output_type": "stream",
          "name": "stdout",
          "text": [
            "Performing stepwise search to minimize aic\n",
            " ARIMA(1,1,1)(0,1,1)[12]             : AIC=inf, Time=10.13 sec\n",
            " ARIMA(0,1,0)(0,1,0)[12]             : AIC=2136.034, Time=0.44 sec\n",
            " ARIMA(1,1,0)(1,1,0)[12]             : AIC=1723.948, Time=2.54 sec\n",
            " ARIMA(0,1,1)(0,1,1)[12]             : AIC=inf, Time=13.52 sec\n",
            " ARIMA(1,1,0)(0,1,0)[12]             : AIC=2130.527, Time=0.55 sec\n",
            " ARIMA(1,1,0)(2,1,0)[12]             : AIC=1570.622, Time=3.65 sec\n",
            " ARIMA(1,1,0)(2,1,1)[12]             : AIC=inf, Time=19.14 sec\n",
            " ARIMA(1,1,0)(1,1,1)[12]             : AIC=inf, Time=3.46 sec\n",
            " ARIMA(0,1,0)(2,1,0)[12]             : AIC=1576.603, Time=1.52 sec\n",
            " ARIMA(2,1,0)(2,1,0)[12]             : AIC=1571.341, Time=3.00 sec\n",
            " ARIMA(1,1,1)(2,1,0)[12]             : AIC=1570.374, Time=4.66 sec\n",
            " ARIMA(1,1,1)(1,1,0)[12]             : AIC=1724.292, Time=1.55 sec\n",
            " ARIMA(1,1,1)(2,1,1)[12]             : AIC=inf, Time=19.85 sec\n",
            " ARIMA(1,1,1)(1,1,1)[12]             : AIC=inf, Time=10.48 sec\n",
            " ARIMA(0,1,1)(2,1,0)[12]             : AIC=1571.100, Time=1.71 sec\n",
            " ARIMA(2,1,1)(2,1,0)[12]             : AIC=1572.311, Time=4.48 sec\n",
            " ARIMA(1,1,2)(2,1,0)[12]             : AIC=1575.090, Time=2.07 sec\n",
            " ARIMA(0,1,2)(2,1,0)[12]             : AIC=1571.959, Time=2.23 sec\n",
            " ARIMA(2,1,2)(2,1,0)[12]             : AIC=inf, Time=27.22 sec\n",
            " ARIMA(1,1,1)(2,1,0)[12] intercept   : AIC=1572.369, Time=14.66 sec\n",
            "\n",
            "Best model:  ARIMA(1,1,1)(2,1,0)[12]          \n",
            "Total fit time: 146.926 seconds\n"
          ]
        }
      ],
      "source": [
        "step2 = auto_arima(treino,start_p=1,start_q=1,max_p=6,max_q=6,m=12,start_P=0,seasonal=True,d=1,D=1,trace=True,\n",
        "                    error_action='ignore',suppress_warnings=True,stepwise=True)"
      ]
    },
    {
      "cell_type": "code",
      "execution_count": 9,
      "metadata": {
        "colab": {
          "base_uri": "https://localhost:8080/"
        },
        "id": "GUha2dnuUPzi",
        "outputId": "2d0789c1-fbdf-4d04-8351-1459c65e18ba"
      },
      "outputs": [
        {
          "output_type": "execute_result",
          "data": {
            "text/plain": [
              "ARIMA(order=(1, 1, 1), scoring_args={}, seasonal_order=(2, 1, 0, 12),\n",
              "      suppress_warnings=True, with_intercept=False)"
            ]
          },
          "metadata": {},
          "execution_count": 9
        }
      ],
      "source": [
        "step2.fit(treino)"
      ]
    },
    {
      "cell_type": "code",
      "execution_count": 10,
      "metadata": {
        "id": "xp4fBERdUeJD"
      },
      "outputs": [],
      "source": [
        "future_forecast=step2.predict(n_periods=len(teste))"
      ]
    },
    {
      "cell_type": "code",
      "execution_count": 11,
      "metadata": {
        "colab": {
          "base_uri": "https://localhost:8080/",
          "height": 412
        },
        "id": "aAq4V_apUkzI",
        "outputId": "b5991fa0-3931-4bbc-da5d-baba76e008af"
      },
      "outputs": [
        {
          "output_type": "execute_result",
          "data": {
            "text/plain": [
              "<matplotlib.legend.Legend at 0x7f4c40123fa0>"
            ]
          },
          "metadata": {},
          "execution_count": 11
        },
        {
          "output_type": "display_data",
          "data": {
            "text/plain": [
              "<Figure size 864x432 with 1 Axes>"
            ],
            "image/png": "[encoded data removed]"
          },
          "metadata": {
            "needs_background": "light"
          }
        }
      ],
      "source": [
        "plt.figure(figsize=(12,6))\n",
        "plt.title('Comparação da Predição Com os Valores Reais', fontsize=14)\n",
        "plt.plot(teste.index,future_forecast,label='Valor Predito')\n",
        "plt.plot(teste.index,teste,label='Real')\n",
        "plt.legend()"
      ]
    },
    {
      "cell_type": "code",
      "execution_count": 12,
      "metadata": {
        "colab": {
          "base_uri": "https://localhost:8080/"
        },
        "id": "Hg5CDLWAU7J3",
        "outputId": "647769ca-5c52-45fd-e566-473d56c61575"
      },
      "outputs": [
        {
          "output_type": "stream",
          "name": "stdout",
          "text": [
            "MAE: 1.0430739042950259\n",
            "MAPE: 0.3056638639108101\n",
            "RMSE: 1.231045128205955\n"
          ]
        }
      ],
      "source": [
        "mae = mean_absolute_error(teste,future_forecast)\n",
        "mape = mean_absolute_percentage_error(teste,future_forecast)\n",
        "rmse = mean_squared_error(teste,future_forecast)\n",
        "\n",
        "print('MAE:',mae)\n",
        "print('MAPE:',mape)\n",
        "print('RMSE:',np.sqrt(rmse))"
      ]
    },
    {
      "cell_type": "code",
      "execution_count": 13,
      "metadata": {
        "id": "Ligv2Eo0V_do"
      },
      "outputs": [],
      "source": [
        "def optimize_SARIMA(parameters_list, d, D, s, exog):\n",
        "    \n",
        "    results = []\n",
        "    \n",
        "    for param in tqdm_notebook(parameters_list):\n",
        "        try: \n",
        "            model = SARIMAX(exog, order=(param[0], d, param[1]), seasonal_order=(param[2], D, param[3], s)).fit(disp=-1)\n",
        "        except:\n",
        "            continue\n",
        "            \n",
        "        aic = model.aic\n",
        "        results.append([param, aic])\n",
        "        \n",
        "    result_df = pd.DataFrame(results)\n",
        "    result_df.columns = ['(p,q)x(P,Q)', 'AIC']\n",
        "    #Sort in ascending order, lower AIC is better\n",
        "    result_df = result_df.sort_values(by='AIC', ascending=True).reset_index(drop=True)\n",
        "    \n",
        "    return result_df"
      ]
    },
    {
      "cell_type": "code",
      "execution_count": 14,
      "metadata": {
        "colab": {
          "base_uri": "https://localhost:8080/"
        },
        "id": "PREzER4qWBAJ",
        "outputId": "43cbcf00-48da-4418-a7cc-6cf37dd9c2f6"
      },
      "outputs": [
        {
          "output_type": "stream",
          "name": "stdout",
          "text": [
            "625\n"
          ]
        }
      ],
      "source": [
        "p = range(0, 5, 1)\n",
        "d = 1\n",
        "q = range(0, 5, 1)\n",
        "P = range(0, 5, 1)\n",
        "D = 1\n",
        "Q = range(0, 5, 1)\n",
        "s = 2\n",
        "parameters = product(p, q, P, Q)\n",
        "parameters_list = list(parameters)\n",
        "print(len(parameters_list))"
      ]
    },
    {
      "cell_type": "code",
      "execution_count": 15,
      "metadata": {
        "colab": {
          "base_uri": "https://localhost:8080/",
          "height": 238,
          "referenced_widgets": [
            "7c8b7a4630f6430fbcbc13535f453750",
            "58e4d5440c7b43e5ac0587ad094e55b1",
            "55e28798766b444d8e5bcd1ad69a956a",
            "16c24386aa0249eea01dbc591cec044b",
            "3f8c568c74b542e7b456b049688e1d48",
            "d19c873b47b3427eadfb458feafea709",
            "f5d81fc6551c4a169e8544e73f74b4bc",
            "13ff7fd1e849435fb2c83c8b1bc46ffb",
            "7e3fcae3386e42c08bb48fab982e242b",
            "07a2c7f550f94e4d99e68d8a6d45fe19",
            "eafd6be449e24341be3ec1cb07e1dc64"
          ]
        },
        "id": "DI34zpgDWEDt",
        "outputId": "96c903db-438d-4e5d-e2ab-267940820ad8"
      },
      "outputs": [
        {
          "output_type": "display_data",
          "data": {
            "text/plain": [
              "  0%|          | 0/625 [00:00<?, ?it/s]"
            ],
            "application/vnd.jupyter.widget-view+json": {
              "version_major": 2,
              "version_minor": 0,
              "model_id": "7c8b7a4630f6430fbcbc13535f453750"
            }
          },
          "metadata": {}
        },
        {
          "output_type": "execute_result",
          "data": {
            "text/plain": [
              "    (p,q)x(P,Q)          AIC\n",
              "0  (1, 0, 2, 3)  1225.033855\n",
              "1  (0, 1, 2, 3)  1225.248848\n",
              "2  (1, 0, 2, 4)  1226.333514\n",
              "3  (1, 0, 3, 3)  1226.395347\n",
              "4  (0, 1, 2, 4)  1226.466170"
            ],
            "text/html": [
              "\n",
              "  <div id=\"df-7dd825e2-b8ae-4266-ab4e-f754092c9d39\">\n",
              "    <div class=\"colab-df-container\">\n",
              "      <div>\n",
              "<style scoped>\n",
              "    .dataframe tbody tr th:only-of-type {\n",
              "        vertical-align: middle;\n",
              "    }\n",
              "\n",
              "    .dataframe tbody tr th {\n",
              "        vertical-align: top;\n",
              "    }\n",
              "\n",
              "    .dataframe thead th {\n",
              "        text-align: right;\n",
              "    }\n",
              "</style>\n",
              "<table border=\"1\" class=\"dataframe\">\n",
              "  <thead>\n",
              "    <tr style=\"text-align: right;\">\n",
              "      <th></th>\n",
              "      <th>(p,q)x(P,Q)</th>\n",
              "      <th>AIC</th>\n",
              "    </tr>\n",
              "  </thead>\n",
              "  <tbody>\n",
              "    <tr>\n",
              "      <th>0</th>\n",
              "      <td>(1, 0, 2, 3)</td>\n",
              "      <td>1225.033855</td>\n",
              "    </tr>\n",
              "    <tr>\n",
              "      <th>1</th>\n",
              "      <td>(0, 1, 2, 3)</td>\n",
              "      <td>1225.248848</td>\n",
              "    </tr>\n",
              "    <tr>\n",
              "      <th>2</th>\n",
              "      <td>(1, 0, 2, 4)</td>\n",
              "      <td>1226.333514</td>\n",
              "    </tr>\n",
              "    <tr>\n",
              "      <th>3</th>\n",
              "      <td>(1, 0, 3, 3)</td>\n",
              "      <td>1226.395347</td>\n",
              "    </tr>\n",
              "    <tr>\n",
              "      <th>4</th>\n",
              "      <td>(0, 1, 2, 4)</td>\n",
              "      <td>1226.466170</td>\n",
              "    </tr>\n",
              "  </tbody>\n",
              "</table>\n",
              "</div>\n",
              "      <button class=\"colab-df-convert\" onclick=\"convertToInteractive('df-7dd825e2-b8ae-4266-ab4e-f754092c9d39')\"\n",
              "              title=\"Convert this dataframe to an interactive table.\"\n",
              "              style=\"display:none;\">\n",
              "        \n",
              "  <svg xmlns=\"http://www.w3.org/2000/svg\" height=\"24px\"viewBox=\"0 0 24 24\"\n",
              "       width=\"24px\">\n",
              "    <path d=\"M0 0h24v24H0V0z\" fill=\"none\"/>\n",
              "    <path d=\"M18.56 5.44l.94 2.06.94-2.06 2.06-.94-2.06-.94-.94-2.06-.94 2.06-2.06.94zm-11 1L8.5 8.5l.94-2.06 2.06-.94-2.06-.94L8.5 2.5l-.94 2.06-2.06.94zm10 10l.94 2.06.94-2.06 2.06-.94-2.06-.94-.94-2.06-.94 2.06-2.06.94z\"/><path d=\"M17.41 7.96l-1.37-1.37c-.4-.4-.92-.59-1.43-.59-.52 0-1.04.2-1.43.59L10.3 9.45l-7.72 7.72c-.78.78-.78 2.05 0 2.83L4 21.41c.39.39.9.59 1.41.59.51 0 1.02-.2 1.41-.59l7.78-7.78 2.81-2.81c.8-.78.8-2.07 0-2.86zM5.41 20L4 18.59l7.72-7.72 1.47 1.35L5.41 20z\"/>\n",
              "  </svg>\n",
              "      </button>\n",
              "      \n",
              "  <style>\n",
              "    .colab-df-container {\n",
              "      display:flex;\n",
              "      flex-wrap:wrap;\n",
              "      gap: 12px;\n",
              "    }\n",
              "\n",
              "    .colab-df-convert {\n",
              "      background-color: #E8F0FE;\n",
              "      border: none;\n",
              "      border-radius: 50%;\n",
              "      cursor: pointer;\n",
              "      display: none;\n",
              "      fill: #1967D2;\n",
              "      height: 32px;\n",
              "      padding: 0 0 0 0;\n",
              "      width: 32px;\n",
              "    }\n",
              "\n",
              "    .colab-df-convert:hover {\n",
              "      background-color: #E2EBFA;\n",
              "      box-shadow: 0px 1px 2px rgba(60, 64, 67, 0.3), 0px 1px 3px 1px rgba(60, 64, 67, 0.15);\n",
              "      fill: #174EA6;\n",
              "    }\n",
              "\n",
              "    [theme=dark] .colab-df-convert {\n",
              "      background-color: #3B4455;\n",
              "      fill: #D2E3FC;\n",
              "    }\n",
              "\n",
              "    [theme=dark] .colab-df-convert:hover {\n",
              "      background-color: #434B5C;\n",
              "      box-shadow: 0px 1px 3px 1px rgba(0, 0, 0, 0.15);\n",
              "      filter: drop-shadow(0px 1px 2px rgba(0, 0, 0, 0.3));\n",
              "      fill: #FFFFFF;\n",
              "    }\n",
              "  </style>\n",
              "\n",
              "      <script>\n",
              "        const buttonEl =\n",
              "          document.querySelector('#df-7dd825e2-b8ae-4266-ab4e-f754092c9d39 button.colab-df-convert');\n",
              "        buttonEl.style.display =\n",
              "          google.colab.kernel.accessAllowed ? 'block' : 'none';\n",
              "\n",
              "        async function convertToInteractive(key) {\n",
              "          const element = document.querySelector('#df-7dd825e2-b8ae-4266-ab4e-f754092c9d39');\n",
              "          const dataTable =\n",
              "            await google.colab.kernel.invokeFunction('convertToInteractive',\n",
              "                                                     [key], {});\n",
              "          if (!dataTable) return;\n",
              "\n",
              "          const docLinkHtml = 'Like what you see? Visit the ' +\n",
              "            '<a target=\"_blank\" href=https://colab.research.google.com/notebooks/data_table.ipynb>data table notebook</a>'\n",
              "            + ' to learn more about interactive tables.';\n",
              "          element.innerHTML = '';\n",
              "          dataTable['output_type'] = 'display_data';\n",
              "          await google.colab.output.renderOutput(dataTable, element);\n",
              "          const docLink = document.createElement('div');\n",
              "          docLink.innerHTML = docLinkHtml;\n",
              "          element.appendChild(docLink);\n",
              "        }\n",
              "      </script>\n",
              "    </div>\n",
              "  </div>\n",
              "  "
            ]
          },
          "metadata": {},
          "execution_count": 15
        }
      ],
      "source": [
        "result_df = optimize_SARIMA(parameters_list, 1, 1, 4, treino)\n",
        "result_df.head()"
      ]
    },
    {
      "cell_type": "code",
      "source": [
        "best_model = SARIMAX(treino, order=(0, 1, 1), seasonal_order=(2, 1, 3, 2)).fit(dis=-1)\n",
        "print(best_model.summary())"
      ],
      "metadata": {
        "colab": {
          "base_uri": "https://localhost:8080/"
        },
        "id": "oZmkl8idJEzv",
        "outputId": "9c92994e-a02b-4ce9-8b96-06120e5beab4"
      },
      "execution_count": 21,
      "outputs": [
        {
          "output_type": "stream",
          "name": "stdout",
          "text": [
            "                                         SARIMAX Results                                         \n",
            "=================================================================================================\n",
            "Dep. Variable:                                     Close   No. Observations:                 1239\n",
            "Model:             SARIMAX(0, 1, 1)x(2, 1, [1, 2, 3], 2)   Log Likelihood                -605.495\n",
            "Date:                                   Tue, 07 Feb 2023   AIC                           1224.989\n",
            "Time:                                           13:59:38   BIC                           1260.827\n",
            "Sample:                                                0   HQIC                          1238.469\n",
            "                                                  - 1239                                         \n",
            "Covariance Type:                                     opg                                         \n",
            "==============================================================================\n",
            "                 coef    std err          z      P>|z|      [0.025      0.975]\n",
            "------------------------------------------------------------------------------\n",
            "ma.L1         -0.0701      0.016     -4.332      0.000      -0.102      -0.038\n",
            "ar.S.L2       -0.5768      0.024    -24.153      0.000      -0.624      -0.530\n",
            "ar.S.L4       -0.9324      0.023    -39.889      0.000      -0.978      -0.887\n",
            "ma.S.L2       -0.3911      0.036    -10.990      0.000      -0.461      -0.321\n",
            "ma.S.L4        0.3512      0.030     11.718      0.000       0.292       0.410\n",
            "ma.S.L6       -0.9592      0.032    -30.138      0.000      -1.022      -0.897\n",
            "sigma2         0.1542      0.005     31.838      0.000       0.145       0.164\n",
            "===================================================================================\n",
            "Ljung-Box (L1) (Q):                   0.01   Jarque-Bera (JB):              1911.42\n",
            "Prob(Q):                              0.93   Prob(JB):                         0.00\n",
            "Heteroskedasticity (H):               7.58   Skew:                            -0.29\n",
            "Prob(H) (two-sided):                  0.00   Kurtosis:                         9.06\n",
            "===================================================================================\n",
            "\n",
            "Warnings:\n",
            "[1] Covariance matrix calculated using the outer product of gradients (complex-step).\n"
          ]
        }
      ]
    },
    {
      "cell_type": "code",
      "source": [
        "fc = best_model.forecast(len(teste), alpha=0.05)"
      ],
      "metadata": {
        "id": "YJi-WdMhKOFH"
      },
      "execution_count": 22,
      "outputs": []
    },
    {
      "cell_type": "code",
      "source": [
        "plt.figure(figsize=(12,6))\n",
        "plt.title('Comparação da Predição Com os Valores Reais', fontsize=14)\n",
        "plt.plot(teste.index,fc,label='Valor Predito')\n",
        "plt.plot(teste.index,teste.values,label='Real')\n",
        "plt.legend()"
      ],
      "metadata": {
        "colab": {
          "base_uri": "https://localhost:8080/",
          "height": 412
        },
        "id": "izM_XHHsKZIF",
        "outputId": "c7b0a317-9a8f-4977-db1c-d06e835089a8"
      },
      "execution_count": 23,
      "outputs": [
        {
          "output_type": "execute_result",
          "data": {
            "text/plain": [
              "<matplotlib.legend.Legend at 0x7f4c382a1be0>"
            ]
          },
          "metadata": {},
          "execution_count": 23
        },
        {
          "output_type": "display_data",
          "data": {
            "text/plain": [
              "<Figure size 864x432 with 1 Axes>"
            ],
            "image/png": "[encoded data removed]"
          },
          "metadata": {
            "needs_background": "light"
          }
        }
      ]
    },
    {
      "cell_type": "code",
      "source": [
        "mae = mean_absolute_error(teste,fc)\n",
        "mape = mean_absolute_percentage_error(teste,fc)\n",
        "rmse = mean_squared_error(teste,fc)\n",
        "\n",
        "print('MAE:',mae)\n",
        "print('MAPE:',mape)\n",
        "print('RMSE:',np.sqrt(rmse))"
      ],
      "metadata": {
        "colab": {
          "base_uri": "https://localhost:8080/"
        },
        "id": "VkKjYA--Knob",
        "outputId": "3b4c574c-2693-4651-f915-d3b88e52a6e7"
      },
      "execution_count": 24,
      "outputs": [
        {
          "output_type": "stream",
          "name": "stdout",
          "text": [
            "MAE: 0.5026282190260241\n",
            "MAPE: 0.1449905099426648\n",
            "RMSE: 0.6356103428173703\n"
          ]
        }
      ]
    }
  ],
  "metadata": {
    "colab": {
      "provenance": [],
      "authorship_tag": "ABX9TyMwq59Ripbdy78FMiXZ5GLG",
      "include_colab_link": true
    },
    "kernelspec": {
      "display_name": "Python 3",
      "name": "python3"
    },
    "language_info": {
      "name": "python"
    },
    "widgets": {
      "application/vnd.jupyter.widget-state+json": {
        "7c8b7a4630f6430fbcbc13535f453750": {
          "model_module": "@jupyter-widgets/controls",
          "model_name": "HBoxModel",
          "model_module_version": "1.5.0",
          "state": {
            "_dom_classes": [],
            "_model_module": "@jupyter-widgets/controls",
            "_model_module_version": "1.5.0",
            "_model_name": "HBoxModel",
            "_view_count": null,
            "_view_module": "@jupyter-widgets/controls",
            "_view_module_version": "1.5.0",
            "_view_name": "HBoxView",
            "box_style": "",
            "children": [
              "IPY_MODEL_58e4d5440c7b43e5ac0587ad094e55b1",
              "IPY_MODEL_55e28798766b444d8e5bcd1ad69a956a",
              "IPY_MODEL_16c24386aa0249eea01dbc591cec044b"
            ],
            "layout": "IPY_MODEL_3f8c568c74b542e7b456b049688e1d48"
          }
        },
        "58e4d5440c7b43e5ac0587ad094e55b1": {
          "model_module": "@jupyter-widgets/controls",
          "model_name": "HTMLModel",
          "model_module_version": "1.5.0",
          "state": {
            "_dom_classes": [],
            "_model_module": "@jupyter-widgets/controls",
            "_model_module_version": "1.5.0",
            "_model_name": "HTMLModel",
            "_view_count": null,
            "_view_module": "@jupyter-widgets/controls",
            "_view_module_version": "1.5.0",
            "_view_name": "HTMLView",
            "description": "",
            "description_tooltip": null,
            "layout": "IPY_MODEL_d19c873b47b3427eadfb458feafea709",
            "placeholder": "​",
            "style": "IPY_MODEL_f5d81fc6551c4a169e8544e73f74b4bc",
            "value": "100%"
          }
        },
        "55e28798766b444d8e5bcd1ad69a956a": {
          "model_module": "@jupyter-widgets/controls",
          "model_name": "FloatProgressModel",
          "model_module_version": "1.5.0",
          "state": {
            "_dom_classes": [],
            "_model_module": "@jupyter-widgets/controls",
            "_model_module_version": "1.5.0",
            "_model_name": "FloatProgressModel",
            "_view_count": null,
            "_view_module": "@jupyter-widgets/controls",
            "_view_module_version": "1.5.0",
            "_view_name": "ProgressView",
            "bar_style": "success",
            "description": "",
            "description_tooltip": null,
            "layout": "IPY_MODEL_13ff7fd1e849435fb2c83c8b1bc46ffb",
            "max": 625,
            "min": 0,
            "orientation": "horizontal",
            "style": "IPY_MODEL_7e3fcae3386e42c08bb48fab982e242b",
            "value": 625
          }
        },
        "16c24386aa0249eea01dbc591cec044b": {
          "model_module": "@jupyter-widgets/controls",
          "model_name": "HTMLModel",
          "model_module_version": "1.5.0",
          "state": {
            "_dom_classes": [],
            "_model_module": "@jupyter-widgets/controls",
            "_model_module_version": "1.5.0",
            "_model_name": "HTMLModel",
            "_view_count": null,
            "_view_module": "@jupyter-widgets/controls",
            "_view_module_version": "1.5.0",
            "_view_name": "HTMLView",
            "description": "",
            "description_tooltip": null,
            "layout": "IPY_MODEL_07a2c7f550f94e4d99e68d8a6d45fe19",
            "placeholder": "​",
            "style": "IPY_MODEL_eafd6be449e24341be3ec1cb07e1dc64",
            "value": " 625/625 [1:11:58&lt;00:00,  1.50s/it]"
          }
        },
        "3f8c568c74b542e7b456b049688e1d48": {
          "model_module": "@jupyter-widgets/base",
          "model_name": "LayoutModel",
          "model_module_version": "1.2.0",
          "state": {
            "_model_module": "@jupyter-widgets/base",
            "_model_module_version": "1.2.0",
            "_model_name": "LayoutModel",
            "_view_count": null,
            "_view_module": "@jupyter-widgets/base",
            "_view_module_version": "1.2.0",
            "_view_name": "LayoutView",
            "align_content": null,
            "align_items": null,
            "align_self": null,
            "border": null,
            "bottom": null,
            "display": null,
            "flex": null,
            "flex_flow": null,
            "grid_area": null,
            "grid_auto_columns": null,
            "grid_auto_flow": null,
            "grid_auto_rows": null,
            "grid_column": null,
            "grid_gap": null,
            "grid_row": null,
            "grid_template_areas": null,
            "grid_template_columns": null,
            "grid_template_rows": null,
            "height": null,
            "justify_content": null,
            "justify_items": null,
            "left": null,
            "margin": null,
            "max_height": null,
            "max_width": null,
            "min_height": null,
            "min_width": null,
            "object_fit": null,
            "object_position": null,
            "order": null,
            "overflow": null,
            "overflow_x": null,
            "overflow_y": null,
            "padding": null,
            "right": null,
            "top": null,
            "visibility": null,
            "width": null
          }
        },
        "d19c873b47b3427eadfb458feafea709": {
          "model_module": "@jupyter-widgets/base",
          "model_name": "LayoutModel",
          "model_module_version": "1.2.0",
          "state": {
            "_model_module": "@jupyter-widgets/base",
            "_model_module_version": "1.2.0",
            "_model_name": "LayoutModel",
            "_view_count": null,
            "_view_module": "@jupyter-widgets/base",
            "_view_module_version": "1.2.0",
            "_view_name": "LayoutView",
            "align_content": null,
            "align_items": null,
            "align_self": null,
            "border": null,
            "bottom": null,
            "display": null,
            "flex": null,
            "flex_flow": null,
            "grid_area": null,
            "grid_auto_columns": null,
            "grid_auto_flow": null,
            "grid_auto_rows": null,
            "grid_column": null,
            "grid_gap": null,
            "grid_row": null,
            "grid_template_areas": null,
            "grid_template_columns": null,
            "grid_template_rows": null,
            "height": null,
            "justify_content": null,
            "justify_items": null,
            "left": null,
            "margin": null,
            "max_height": null,
            "max_width": null,
            "min_height": null,
            "min_width": null,
            "object_fit": null,
            "object_position": null,
            "order": null,
            "overflow": null,
            "overflow_x": null,
            "overflow_y": null,
            "padding": null,
            "right": null,
            "top": null,
            "visibility": null,
            "width": null
          }
        },
        "f5d81fc6551c4a169e8544e73f74b4bc": {
          "model_module": "@jupyter-widgets/controls",
          "model_name": "DescriptionStyleModel",
          "model_module_version": "1.5.0",
          "state": {
            "_model_module": "@jupyter-widgets/controls",
            "_model_module_version": "1.5.0",
            "_model_name": "DescriptionStyleModel",
            "_view_count": null,
            "_view_module": "@jupyter-widgets/base",
            "_view_module_version": "1.2.0",
            "_view_name": "StyleView",
            "description_width": ""
          }
        },
        "13ff7fd1e849435fb2c83c8b1bc46ffb": {
          "model_module": "@jupyter-widgets/base",
          "model_name": "LayoutModel",
          "model_module_version": "1.2.0",
          "state": {
            "_model_module": "@jupyter-widgets/base",
            "_model_module_version": "1.2.0",
            "_model_name": "LayoutModel",
            "_view_count": null,
            "_view_module": "@jupyter-widgets/base",
            "_view_module_version": "1.2.0",
            "_view_name": "LayoutView",
            "align_content": null,
            "align_items": null,
            "align_self": null,
            "border": null,
            "bottom": null,
            "display": null,
            "flex": null,
            "flex_flow": null,
            "grid_area": null,
            "grid_auto_columns": null,
            "grid_auto_flow": null,
            "grid_auto_rows": null,
            "grid_column": null,
            "grid_gap": null,
            "grid_row": null,
            "grid_template_areas": null,
            "grid_template_columns": null,
            "grid_template_rows": null,
            "height": null,
            "justify_content": null,
            "justify_items": null,
            "left": null,
            "margin": null,
            "max_height": null,
            "max_width": null,
            "min_height": null,
            "min_width": null,
            "object_fit": null,
            "object_position": null,
            "order": null,
            "overflow": null,
            "overflow_x": null,
            "overflow_y": null,
            "padding": null,
            "right": null,
            "top": null,
            "visibility": null,
            "width": null
          }
        },
        "7e3fcae3386e42c08bb48fab982e242b": {
          "model_module": "@jupyter-widgets/controls",
          "model_name": "ProgressStyleModel",
          "model_module_version": "1.5.0",
          "state": {
            "_model_module": "@jupyter-widgets/controls",
            "_model_module_version": "1.5.0",
            "_model_name": "ProgressStyleModel",
            "_view_count": null,
            "_view_module": "@jupyter-widgets/base",
            "_view_module_version": "1.2.0",
            "_view_name": "StyleView",
            "bar_color": null,
            "description_width": ""
          }
        },
        "07a2c7f550f94e4d99e68d8a6d45fe19": {
          "model_module": "@jupyter-widgets/base",
          "model_name": "LayoutModel",
          "model_module_version": "1.2.0",
          "state": {
            "_model_module": "@jupyter-widgets/base",
            "_model_module_version": "1.2.0",
            "_model_name": "LayoutModel",
            "_view_count": null,
            "_view_module": "@jupyter-widgets/base",
            "_view_module_version": "1.2.0",
            "_view_name": "LayoutView",
            "align_content": null,
            "align_items": null,
            "align_self": null,
            "border": null,
            "bottom": null,
            "display": null,
            "flex": null,
            "flex_flow": null,
            "grid_area": null,
            "grid_auto_columns": null,
            "grid_auto_flow": null,
            "grid_auto_rows": null,
            "grid_column": null,
            "grid_gap": null,
            "grid_row": null,
            "grid_template_areas": null,
            "grid_template_columns": null,
            "grid_template_rows": null,
            "height": null,
            "justify_content": null,
            "justify_items": null,
            "left": null,
            "margin": null,
            "max_height": null,
            "max_width": null,
            "min_height": null,
            "min_width": null,
            "object_fit": null,
            "object_position": null,
            "order": null,
            "overflow": null,
            "overflow_x": null,
            "overflow_y": null,
            "padding": null,
            "right": null,
            "top": null,
            "visibility": null,
            "width": null
          }
        },
        "eafd6be449e24341be3ec1cb07e1dc64": {
          "model_module": "@jupyter-widgets/controls",
          "model_name": "DescriptionStyleModel",
          "model_module_version": "1.5.0",
          "state": {
            "_model_module": "@jupyter-widgets/controls",
            "_model_module_version": "1.5.0",
            "_model_name": "DescriptionStyleModel",
            "_view_count": null,
            "_view_module": "@jupyter-widgets/base",
            "_view_module_version": "1.2.0",
            "_view_name": "StyleView",
            "description_width": ""
          }
        }
      }
    }
  },
  "nbformat": 4,
  "nbformat_minor": 0
}